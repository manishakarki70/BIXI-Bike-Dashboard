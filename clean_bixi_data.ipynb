# File: scripts/clean_bixi_data.ipynb

import pandas as pd
import os

# Path to the raw data folder
data_path = r'...\data\raw'

# List of raw data files to read
trip_files = [file for file in os.listdir(data_path) if file.startswith('bixi_trips') and file.endswith('.csv')]

# Create an empty list to store each year's DataFrames
trip_dataframes = []

# Loop through each file, read it, and append the DataFrame to the list
for file in trip_files:
    # Read the CSV file into a DataFrame
    df = pd.read_csv(os.path.join(data_path, file), low_memory=False)
    print(f"Loaded {file} with shape {df.shape}")
    
    # Append the DataFrame to the list
    trip_dataframes.append(df)

# Combine all DataFrames into a single big DataFrame
df_trips = pd.concat(trip_dataframes, ignore_index=True)
print(f"Combined DataFrame shape: {df_trips.shape}")

# Print the first few rows and columns of the combined DataFrame
print(df_trips.columns)
print(df_trips.head())

# Convert UNIX timestamps(milliseconds) to datetime
df_trips['start_date'] = pd.to_datetime(df_trips['STARTTIMEMS'], unit='ms')
df_trips['end_date'] = pd.to_datetime(df_trips['ENDTIMEMS'], unit='ms')

# Calculate trip duration in seconds and minutes
df_trips['duration_sec'] = (df_trips['end_date'] - df_trips['start_date']).dt.total_seconds()
df_trips['duration_min'] = df_trips['duration_sec'] / 60

# Filter out trips with negative or zero duration
df_trips = df_trips[df_trips['duration_sec'] >0 ]

# Extract datetime components
df_trips['date'] = df_trips['start_date'].dt.date
df_trips['year'] = df_trips['start_date'].dt.year
df_trips['month'] = df_trips['start_date'].dt.month
df_trips['day_of_week'] = df_trips['start_date'].dt.day_name().str[:3]
df_trips['hour'] = df_trips['start_date'].dt.hour

print(df_trips.head())

# Save the cleaned DataFrame to a new CSV file
df_trips.to_csv('.../data/cleaned/fact_trips.csv', index=False)
print("Cleaned data saved to 'fact_trips.csv'")

# Code to clean and save station data (dim_station.csv)

# Crete start stations
start_stations = df_trips[['STARTSTATIONNAME', 'STARTSTATIONLATITUDE', 'STARTSTATIONLONGITUDE', 'STARTSTATIONARRONDISSEMENT']].copy()
start_stations.columns = ['station_name', 'latitude', 'longitude', 'arrondissement']

# Create end stations
end_stations = df_trips[['ENDSTATIONNAME', 'ENDSTATIONLATITUDE', 'ENDSTATIONLONGITUDE', 'ENDSTATIONARRONDISSEMENT']].copy()
end_stations.columns = ['station_name', 'latitude', 'longitude', 'arrondissement']

# Combine start and end stations into a single DataFrame 
df_stations = pd.concat([start_stations, end_stations], ignore_index=True)

# Drop duplicates based station name only
df_stations = df_stations.drop_duplicates(subset='station_name').reset_index(drop=True)

# duplicates = df_stations[df_stations.duplicated(subset='station_name', keep=False)]
# print(duplicates.sort_values('station_name'))

# Add a new column for station ID
df_stations['station_id'] = df_stations.index + 1

# Save as dim_station.csv
df_stations.to_csv('.../data/cleaned/dim_station.csv', index=False)
print("Station data saved to 'dim_station.csv'")    

print(f"Station DataFrame shape: {df_stations.shape}")
print(df_stations.head())

# Create dim_date.csv for time intelligence

# Define start and end dates from the trips DataFrame
start_date = df_trips['start_date'].min().date()
end_date = df_trips['start_date'].max().date()

# Generate a date range
date_range = pd.date_range(start=start_date, end=end_date, freq='D')

# Build date dimensions
dim_date = pd.DataFrame({'date': date_range})
dim_date['year'] = dim_date['date'].dt.year
dim_date['month'] = dim_date['date'].dt.month
dim_date['month_name'] = dim_date['date'].dt.month_name().str[:3]
dim_date['day'] = dim_date['date'].dt.day
dim_date['day_of_week'] = dim_date['date'].dt.day_name().str[:3]
dim_date['week'] = dim_date['date'].dt.isocalendar().week

# Save as dim_date.csv
dim_date.to_csv('.../data/cleaned/dim_date.csv', index=False)

print("Date dimension data saved to 'dim_date.csv'")
print(f"Date DataFrame shape: {dim_date.shape}")
print(dim_date.head())

# Create fact_trips_sample_2024_H1.csv file

# Filter for only Jan to June 2024
df_trips_sample = df_trips[(df_trips['year'] == 2024) & (df_trips['month'] <= 6)]

# Define the list of useful columns
columns_to_keep = [
    'STARTSTATIONNAME', 'ENDSTATIONNAME', 'STARTTIMEMS',
    'start_date', 'end_date', 'duration_sec', 'duration_min',
    'date', 'year', 'month', 'day_of_week', 'hour'
]

# Keep only the required columns
df_trips_sample = df_trips_sample[columns_to_keep]

# Check the size of the sample DataFrame
print(f"Sample DataFrame shape: {df_trips_sample.shape}")

# Save cleaned sample to CSV
df_trips_sample.to_csv('.../data/cleaned/fact_trips_sample_2024_H1.csv', index=False)
print("Sample data saved to 'fact_trips_sample_2024_H1.csv'")
