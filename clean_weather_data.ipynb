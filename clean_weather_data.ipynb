# File: scripts/clean_weather_data.ipynb
# Weather data from Environment Canada

import pandas as pd
import os

# Path to the raw data folder
data_path = r'...\data\raw'

# List of weather data files to read
weather_files = [file for file in os.listdir(data_path) if file.startswith('weather') and file.endswith('.csv')]

# Load and concatenate all weather data files
df_weather_all = pd.concat([pd.read_csv(os.path.join(data_path, file)) for file in weather_files], ignore_index=True)

print(df_weather_all.columns)

# Display the first few rows of the concatenated DataFrame
print(df_weather_all.head())

# Clean and Transform the DataFrame

# Ensure the 'Date' column is in datetime format
df_weather_all['date'] = pd.to_datetime(df_weather_all['Date/Time']) 

# Select relevant columns
df_weather_clean = df_weather_all[['date', 'Max Temp (°C)', 'Min Temp (°C)', 'Mean Temp (°C)', 'Total Precip (mm)', 'Snow on Grnd (cm)', 'Spd of Max Gust (km/h)']].copy()
df_weather_clean.columns = ['date', 'max_temp', 'min_temp', 'mean_temp', 'precip_mm', 'snow_on_ground', 'max_gust_speed']

# Handle missing values
df_weather_clean[['max_temp', 'min_temp', 'mean_temp']] = df_weather_clean[['max_temp', 'min_temp', 'mean_temp']].fillna(method='ffill')
df_weather_clean[['precip_mm', 'snow_on_ground', 'max_gust_speed']] = df_weather_clean[['precip_mm', 'snow_on_ground', 'max_gust_speed']].fillna(0)

# Sort and remove duplicates
df_weather_clean = df_weather_clean.sort_values(by='date').drop_duplicates(subset=['date'])

# Save the cleaned DataFrame to a new CSV file
df_weather_clean.to_csv('.../data/cleaned/dim_weather.csv', index=False)
print("Cleaned weather data saved to 'dim_weather.csv'")
